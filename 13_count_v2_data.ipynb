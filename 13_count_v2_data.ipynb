{
 "cells": [
  {
   "cell_type": "code",
   "execution_count": 1,
   "metadata": {},
   "outputs": [],
   "source": [
    "import gzip\n",
    "import json"
   ]
  },
  {
   "cell_type": "code",
   "execution_count": 2,
   "metadata": {},
   "outputs": [],
   "source": [
    "def print_data_counts(data: list):\n",
    "    question_list = []\n",
    "    imperative_informal_list = []\n",
    "    imperative_formal_list = []\n",
    "\n",
    "    for d in data:\n",
    "        if 'question' in d:\n",
    "            question_list.extend(d['question'])\n",
    "        if 'imperative_informal' in d:\n",
    "            imperative_informal_list.extend(d['imperative_informal'])\n",
    "        if 'imperative_formal' in d:\n",
    "            imperative_formal_list.extend(d['imperative_formal'])\n",
    "\n",
    "    print(\"context count:\", len(data))\n",
    "    print(\"question count:\", len(question_list))\n",
    "    print(\"questions set count:\", len(set(question_list)))\n",
    "    print(\"formal count:\", len(imperative_formal_list))\n",
    "    print(\"formal set count:\", len(set(imperative_formal_list)))\n",
    "    print(\"informal count:\", len(imperative_informal_list))\n",
    "    print(\"informal set count:\", len(set(imperative_informal_list)))\n",
    "    print(\"imperative all count:\", len(imperative_informal_list + imperative_formal_list))\n",
    "    print(\"imperative set count:\", len(set(imperative_informal_list + imperative_formal_list)))\n",
    "    print(\"all count:\", len(imperative_informal_list + imperative_formal_list + question_list))\n",
    "    print(\"all set count:\", len(set(imperative_informal_list + imperative_formal_list + question_list)))\n"
   ]
  },
  {
   "cell_type": "code",
   "execution_count": 3,
   "metadata": {},
   "outputs": [
    {
     "name": "stdout",
     "output_type": "stream",
     "text": [
      "context count: 129591\n",
      "question count: 757167\n",
      "questions set count: 757167\n",
      "formal count: 762076\n",
      "formal set count: 762076\n",
      "informal count: 712383\n",
      "informal set count: 712383\n",
      "imperative all count: 1474459\n",
      "imperative set count: 1474459\n",
      "all count: 2231626\n",
      "all set count: 2231626\n"
     ]
    }
   ],
   "source": [
    "# load train data\n",
    "with gzip.GzipFile(\"./data/wikipedia-22-12-de-train-data-v2.json.gz\", \"r\") as f:\n",
    "    train_data = json.loads(f.read().decode('utf-8'))\n",
    "assert len(train_data) == 129_591\n",
    "print_data_counts(train_data)"
   ]
  },
  {
   "cell_type": "code",
   "execution_count": 4,
   "metadata": {},
   "outputs": [
    {
     "name": "stdout",
     "output_type": "stream",
     "text": [
      "context count: 5000\n",
      "question count: 29186\n",
      "questions set count: 29186\n",
      "formal count: 29404\n",
      "formal set count: 29404\n",
      "informal count: 27548\n",
      "informal set count: 27548\n",
      "imperative all count: 56952\n",
      "imperative set count: 56952\n",
      "all count: 86138\n",
      "all set count: 86138\n"
     ]
    }
   ],
   "source": [
    "# load test data\n",
    "with gzip.GzipFile(\"./data/wikipedia-22-12-de-test-data-v2.json.gz\", \"r\") as f:\n",
    "    test_data = json.loads(f.read().decode('utf-8'))\n",
    "assert len(test_data) == 5_000\n",
    "print_data_counts(test_data)"
   ]
  },
  {
   "cell_type": "code",
   "execution_count": null,
   "metadata": {},
   "outputs": [],
   "source": []
  }
 ],
 "metadata": {
  "kernelspec": {
   "display_name": "Python 3",
   "language": "python",
   "name": "python3"
  },
  "language_info": {
   "codemirror_mode": {
    "name": "ipython",
    "version": 3
   },
   "file_extension": ".py",
   "mimetype": "text/x-python",
   "name": "python",
   "nbconvert_exporter": "python",
   "pygments_lexer": "ipython3",
   "version": "3.10.12"
  }
 },
 "nbformat": 4,
 "nbformat_minor": 2
}
