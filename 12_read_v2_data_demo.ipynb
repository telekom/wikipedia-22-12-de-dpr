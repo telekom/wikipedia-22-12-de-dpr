{
 "cells": [
  {
   "cell_type": "code",
   "execution_count": 1,
   "metadata": {},
   "outputs": [],
   "source": [
    "import gzip\n",
    "import json"
   ]
  },
  {
   "cell_type": "code",
   "execution_count": 2,
   "metadata": {},
   "outputs": [],
   "source": [
    "# load train data\n",
    "with gzip.GzipFile(\"./data/wikipedia-22-12-de-train-data-v2.json.gz\", \"r\") as f:\n",
    "    train_data = json.loads(f.read().decode('utf-8'))\n",
    "assert len(train_data) == 129_591"
   ]
  },
  {
   "cell_type": "code",
   "execution_count": 3,
   "metadata": {},
   "outputs": [
    {
     "data": {
      "text/plain": [
       "{'wiki_id': 1683529,\n",
       " 'title': '2,4-Dinitrophenylhydrazin',\n",
       " 'context': '2,4-Dinitrophenylhydrazin ist eine chemische Verbindung aus der Gruppe der aromatischen Hydrazine mit der Summenformel CHNO. Trockenes 2,4-Dinitrophenylhydrazin ist explosionsgefährlich; bei der Zersetzung entstehen nitrose Gase. Es wird mit Wasser phlegmatisiert, d. h., dem kommerziell erhältlichen Produkt werden ca. 0,5 ml Wasser pro Gramm DNPH zugesetzt, um die Substanz lager- und transportfähig zu machen (darum auch keine GHS-Gefahrstoffkenzeichnung als explosionsgefährlich). Es werden „erhebliche, negative Auswirkungen auf menschliche Gesundheit und Wasserökologie“ erwähnt. Diese eher subjektive und unbestimmte Aussage erlaubt jedoch keine Zuweisung von Gefahrenmerkmalen. Es liegt nur eine geringe akute Toxizität vor. Ähnlich wie andere als Düngemittel verwendete Stoffe, kann von negativen ökologischen Auswirkungen ausgegangen werden, wenn der Stoff ungewollt und in hoher Konzentration in die Umwelt gelangt.',\n",
       " 'context_uuid': '3cde116b-7640-4116-b435-f87e35dddd0a',\n",
       " 'questions': ['Welche Summenformel hat 2,4-Dinitrophenylhydrazin?',\n",
       "  'Warum wird 2,4-Dinitrophenylhydrazin mit Wasser phlegmatisiert?',\n",
       "  'Was sind die Auswirkungen von 2,4-Dinitrophenylhydrazin auf die menschliche Gesundheit und die Wasserökologie?',\n",
       "  'Gibt es eine Gefahrenmerkmal-Zuweisung für 2,4-Dinitrophenylhydrazin?',\n",
       "  'Wie hoch ist die akute Toxizität von 2,4-Dinitrophenylhydrazin?',\n",
       "  'Welche Auswirkungen hat der ungewollte Eintrag von 2,4-Dinitrophenylhydrazin in die Umwelt?'],\n",
       " 'imperative_informal': ['Nenne die Summenformel von 2,4-Dinitrophenylhydrazin.',\n",
       "  'Erkläre, warum 2,4-Dinitrophenylhydrazin explosionsgefährlich ist.',\n",
       "  'Beschreibe den Prozess, wie 2,4-Dinitrophenylhydrazin lager- und transportfähig gemacht wird.',\n",
       "  'Äußere dich zu den Auswirkungen von 2,4-Dinitrophenylhydrazin auf die menschliche Gesundheit und die Wasserökologie.',\n",
       "  'Informiere dich über die akute Toxizität von 2,4-Dinitrophenylhydrazin.',\n",
       "  'Bewerte die ökologischen Auswirkungen, wenn der Stoff ungewollt und in hoher Konzentration in die Umwelt gelangt.'],\n",
       " 'imperative_formal': ['Nennen Sie die Summenformel von 2,4-Dinitrophenylhydrazin.',\n",
       "  'Erklären Sie, warum 2,4-Dinitrophenylhydrazin explosionsgefährlich ist.',\n",
       "  'Beschreiben Sie den Prozess, wie 2,4-Dinitrophenylhydrazin lager- und transportfähig gemacht wird.',\n",
       "  'Äußern Sie sich zu den Auswirkungen von 2,4-Dinitrophenylhydrazin auf die menschliche Gesundheit und die Wasserökologie.',\n",
       "  'Informieren Sie sich über die akute Toxizität von 2,4-Dinitrophenylhydrazin.',\n",
       "  'Bewerten Sie die ökologischen Auswirkungen, wenn der Stoff ungewollt und in hoher Konzentration in die Umwelt gelangt.']}"
      ]
     },
     "execution_count": 3,
     "metadata": {},
     "output_type": "execute_result"
    }
   ],
   "source": [
    "train_data[0]"
   ]
  },
  {
   "cell_type": "code",
   "execution_count": 4,
   "metadata": {},
   "outputs": [],
   "source": [
    "# load test data\n",
    "with gzip.GzipFile(\"./data/wikipedia-22-12-de-test-data-v2.json.gz\", \"r\") as f:\n",
    "    test_data = json.loads(f.read().decode('utf-8'))\n",
    "assert len(test_data) == 5_000"
   ]
  },
  {
   "cell_type": "code",
   "execution_count": 5,
   "metadata": {},
   "outputs": [
    {
     "data": {
      "text/plain": [
       "{'wiki_id': 6019975,\n",
       " 'title': 'A•DEvantgarde',\n",
       " 'context': 'A•DEvantgarde ist ein Zusammenschluss von Komponisten in München. Er wurde 1991 auf Initiative Wilhelm Killmayers von Moritz Eggert und Sandeep Bhagwati als eingetragener Verein \"aDEvantgarde – Projekte Neuer Musik\" gegründet. Seitdem führt aDEvantgarde alle zwei Jahre das aDEvantgarde-Festival durch. Das \"A•DEvantgarde-Festival\" fand bisher im Wechsel mit der Münchener Biennale für Neues Musiktheater statt, die immer in geraden Jahren veranstaltet wurden, während das A•DEvantgarde-Festival in ungeraden Jahren stattfindet.',\n",
       " 'context_uuid': 'd98662e3-64aa-472c-80a5-b744b4d22fc2',\n",
       " 'questions': ['Wann wurde der Verein \"aDEvantgarde – Projekte Neuer Musik\" gegründet und wer waren die Initiatoren?',\n",
       "  'Was ist aDEvantgarde und wer sind seine Mitglieder?',\n",
       "  'Wie oft findet das aDEvantgarde-Festival statt und in welchem Rhythmus wechselt es mit der Münchener Biennale ab?',\n",
       "  'Wer hat den Verein aDEvantgarde ins Leben gerufen?',\n",
       "  'Was ist das Ziel von aDEvantgarde?',\n",
       "  'Wo findet das aDEvantgarde-Festival statt?'],\n",
       " 'imperative_informal': ['Nenne den Gründer des Zusammenschlusses A•DEvantgarde.',\n",
       "  'Gebe das Gründungsjahr von A•DEvantgarde an.',\n",
       "  'Erkläre, was das A•DEvantgarde-Festival ist.',\n",
       "  'Beschreibe die Häufigkeit, mit der das A•DEvantgarde-Festival stattfindet.',\n",
       "  'Identifiziere die Veranstaltung, die im Wechsel mit dem A•DEvantgarde-Festival stattfindet.',\n",
       "  'Teile mit, in welchen Jahren das A•DEvantgarde-Festival normalerweise stattfindet.'],\n",
       " 'imperative_formal': ['Nennen Sie den Gründer des Zusammenschlusses A•DEvantgarde.',\n",
       "  'Geben Sie das Gründungsjahr von A•DEvantgarde an.',\n",
       "  'Erklären Sie, was das A•DEvantgarde-Festival ist.',\n",
       "  'Beschreiben Sie die Häufigkeit, mit der das A•DEvantgarde-Festival stattfindet.',\n",
       "  'Identifizieren Sie die Veranstaltung, die im Wechsel mit dem A•DEvantgarde-Festival stattfindet.',\n",
       "  'Teilen Sie mit, in welchen Jahren das A•DEvantgarde-Festival normalerweise stattfindet.']}"
      ]
     },
     "execution_count": 5,
     "metadata": {},
     "output_type": "execute_result"
    }
   ],
   "source": [
    "test_data[0]"
   ]
  },
  {
   "cell_type": "code",
   "execution_count": null,
   "metadata": {},
   "outputs": [],
   "source": []
  }
 ],
 "metadata": {
  "kernelspec": {
   "display_name": "Python 3",
   "language": "python",
   "name": "python3"
  },
  "language_info": {
   "codemirror_mode": {
    "name": "ipython",
    "version": 3
   },
   "file_extension": ".py",
   "mimetype": "text/x-python",
   "name": "python",
   "nbconvert_exporter": "python",
   "pygments_lexer": "ipython3",
   "version": "3.10.12"
  }
 },
 "nbformat": 4,
 "nbformat_minor": 2
}
