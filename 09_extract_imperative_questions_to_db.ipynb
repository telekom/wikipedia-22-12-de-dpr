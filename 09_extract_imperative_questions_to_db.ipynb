{
 "cells": [
  {
   "cell_type": "code",
   "execution_count": 1,
   "metadata": {},
   "outputs": [],
   "source": [
    "import gzip\n",
    "import json\n",
    "from mltb2.arangodb import ArangoImportDataManager"
   ]
  },
  {
   "cell_type": "code",
   "execution_count": 2,
   "metadata": {},
   "outputs": [],
   "source": [
    "with gzip.GzipFile(\"./data/wikipedia-22-12-de-train-data.json.gz\", \"r\") as f:\n",
    "    train_data = json.loads(f.read().decode(\"utf-8\"))\n",
    "assert len(train_data) == 129_591"
   ]
  },
  {
   "cell_type": "code",
   "execution_count": 3,
   "metadata": {},
   "outputs": [],
   "source": [
    "with gzip.GzipFile(\"./data/wikipedia-22-12-de-test-data.json.gz\", \"r\") as f:\n",
    "    test_data = json.loads(f.read().decode(\"utf-8\"))\n",
    "assert len(test_data) == 5_000"
   ]
  },
  {
   "cell_type": "code",
   "execution_count": 4,
   "metadata": {},
   "outputs": [],
   "source": [
    "data = train_data + test_data\n",
    "\n",
    "all_imperative_questions = []\n",
    "\n",
    "for d in data:\n",
    "    if \"imperatives\" in d:\n",
    "        all_imperative_questions.extend(d[\"imperatives\"])\n",
    "\n",
    "assert len(all_imperative_questions) == 793_143"
   ]
  },
  {
   "cell_type": "code",
   "execution_count": 5,
   "metadata": {},
   "outputs": [
    {
     "data": {
      "text/plain": [
       "{'imperative_formal': 'Nennen Sie die Summenformel von 2,4-Dinitrophenylhydrazin.'}"
      ]
     },
     "execution_count": 5,
     "metadata": {},
     "output_type": "execute_result"
    }
   ],
   "source": [
    "all_imperative_questions_dicts = [{\"imperative_formal\": iq} for iq in all_imperative_questions]\n",
    "all_imperative_questions_dicts[0]"
   ]
  },
  {
   "cell_type": "code",
   "execution_count": 6,
   "metadata": {},
   "outputs": [],
   "source": [
    "arango_import_data_manager = ArangoImportDataManager.from_config_file(\"./config_arangodb_imperative_informal.env\")\n",
    "arango_import_data_manager.import_dicts(all_imperative_questions_dicts, \"imp_to_informal\", create_collection=True)"
   ]
  },
  {
   "cell_type": "code",
   "execution_count": null,
   "metadata": {},
   "outputs": [],
   "source": []
  }
 ],
 "metadata": {
  "kernelspec": {
   "display_name": "Python 3",
   "language": "python",
   "name": "python3"
  },
  "language_info": {
   "codemirror_mode": {
    "name": "ipython",
    "version": 3
   },
   "file_extension": ".py",
   "mimetype": "text/x-python",
   "name": "python",
   "nbconvert_exporter": "python",
   "pygments_lexer": "ipython3",
   "version": "3.10.12"
  }
 },
 "nbformat": 4,
 "nbformat_minor": 2
}
